{
 "cells": [
  {
   "cell_type": "code",
   "execution_count": null,
   "metadata": {},
   "outputs": [],
   "source": [
    "from os import path, makedirs\n",
    "import glob\n",
    "import json\n",
    "import shutil\n",
    "import re\n",
    "from jsonschema import validate, Draft7Validator"
   ]
  },
  {
   "cell_type": "code",
   "execution_count": null,
   "metadata": {},
   "outputs": [],
   "source": [
    "reasons = set()\n",
    "bgcs = {}\n",
    "todos = {}\n",
    "todos_reasons = set()\n",
    "\n",
    "for phase in [5, 6, 7]:\n",
    "    with open(\"../../preprocessed/reports/p{}-retired_list.tsv\".format(phase), \"r\") as pl:\n",
    "        for line in pl:\n",
    "            cols = line.strip().split(\"\\t\")\n",
    "            bgc_id = cols[0]\n",
    "            if bgc_id not in bgcs:\n",
    "                bgcs[bgc_id] = set()\n",
    "            bgcs[bgc_id].update(cols[1].split(\";\"))\n",
    "            reasons.update(cols[1].split(\";\"))"
   ]
  },
  {
   "cell_type": "code",
   "execution_count": null,
   "metadata": {},
   "outputs": [],
   "source": []
  },
  {
   "cell_type": "raw",
   "metadata": {},
   "source": []
  },
  {
   "cell_type": "code",
   "execution_count": null,
   "metadata": {},
   "outputs": [],
   "source": [
    "for phase in [7]:\n",
    "    with open(\"../../preprocessed/reports/p{}-fixed_list.tsv\".format(phase), \"r\") as pl:\n",
    "        for line in pl:\n",
    "            cols = line.strip().split(\"\\t\")\n",
    "            bgc_id = cols[0]\n",
    "            fixed_problems = cols[1].split(\";\")\n",
    "            for fixed_problem in fixed_problems:\n",
    "                try:\n",
    "                    bgcs[bgc_id].remove(fixed_problem)\n",
    "                except:\n",
    "                    print(bgc_id)"
   ]
  },
  {
   "cell_type": "code",
   "execution_count": null,
   "metadata": {},
   "outputs": [],
   "source": [
    "for phase in [7]:\n",
    "    with open(\"../../preprocessed/reports/p{}-todo_list.tsv\".format(phase), \"r\") as pl:\n",
    "        for line in pl:\n",
    "            cols = line.strip().split(\"\\t\")\n",
    "            bgc_id = cols[0]\n",
    "            reason = cols[1]\n",
    "            ids = cols[2].split(\";\")\n",
    "            if bgc_id not in todos:\n",
    "                todos[bgc_id] = {}\n",
    "            todos[bgc_id][reason] = len(ids)\n",
    "            todos_reasons.add(reason)"
   ]
  },
  {
   "cell_type": "code",
   "execution_count": null,
   "metadata": {},
   "outputs": [],
   "source": []
  },
  {
   "cell_type": "code",
   "execution_count": null,
   "metadata": {},
   "outputs": [],
   "source": [
    "def append_addprop(input_dict):\n",
    "    if isinstance(input_dict, dict):\n",
    "        if \"properties\" in input_dict and \"additionalProperties\" not in input_dict:\n",
    "            input_dict[\"additionalProperties\"] = False\n",
    "        for key in input_dict:\n",
    "            if key in [\"allOf\"]:\n",
    "                continue\n",
    "            append_addprop(input_dict[key])\n",
    "    elif isinstance(input_dict, list):\n",
    "        for node in input_dict:\n",
    "            append_addprop(node)\n",
    "    return\n",
    "\n",
    "def add_rules_additionalProperties(schema):\n",
    "    append_addprop(schema)"
   ]
  },
  {
   "cell_type": "code",
   "execution_count": null,
   "metadata": {},
   "outputs": [],
   "source": []
  },
  {
   "cell_type": "code",
   "execution_count": null,
   "metadata": {},
   "outputs": [],
   "source": []
  },
  {
   "cell_type": "code",
   "execution_count": null,
   "metadata": {},
   "outputs": [],
   "source": [
    "final_schema = \"../../inputs/mibig_schema_phase_6.json\"\n",
    "output_schema = \"../../outputs/mibig_2.0_schema.json\"\n",
    "schema_obj = None\n",
    "validator = None\n",
    "\n",
    "with open(final_schema, \"r\") as json_file:\n",
    "    schema_obj = json.load(json_file)\n",
    "    add_rules_additionalProperties(schema_obj)\n",
    "    validator = Draft7Validator(schema_obj)\n",
    "    with open(output_schema, \"w\") as o:\n",
    "        o.write(json.dumps(schema_obj, indent=4, separators=(',', ': '), sort_keys=True))"
   ]
  },
  {
   "cell_type": "code",
   "execution_count": null,
   "metadata": {},
   "outputs": [],
   "source": [
    "def check_and_remove_unknowns(input_dict, path, schema):\n",
    "    if isinstance(input_dict, dict):\n",
    "        new_dict = {}\n",
    "        for key in input_dict:\n",
    "            val = input_dict[key]\n",
    "            path_to_key = path + [\"properties\", key]\n",
    "            if isinstance(val, str) and val.lower() in [\"unknown\", \"none\"]: # don't need to discard others, it was already handled in phase_5\n",
    "                schema_entry = schema\n",
    "                for walk in path_to_key:\n",
    "                    schema_entry = schema_entry[walk]\n",
    "                assert isinstance(schema_entry, dict)\n",
    "                if \"enum\" not in schema_entry:\n",
    "                    # discard this attribute\n",
    "                    continue\n",
    "            new_dict[key] = check_and_remove_unknowns(val, path_to_key, schema)\n",
    "        input_dict = new_dict\n",
    "    elif isinstance(input_dict, list):\n",
    "        path_to_key = path + [\"items\"]\n",
    "        schema_entry = schema\n",
    "        for walk in path_to_key:\n",
    "            schema_entry = schema_entry[walk]\n",
    "        assert isinstance(schema_entry, dict)\n",
    "        if \"enum\" not in schema_entry:\n",
    "            new_list = []\n",
    "            for i, val in enumerate(input_dict):\n",
    "                if isinstance(val, str) and val.lower() in [\"unknown\", \"none\"]:\n",
    "                    # discard this value\n",
    "                    continue\n",
    "                new_list.append(val)\n",
    "            input_dict = new_list\n",
    "    return input_dict"
   ]
  },
  {
   "cell_type": "code",
   "execution_count": null,
   "metadata": {},
   "outputs": [],
   "source": [
    "def check_and_remove_empty_values(input_dict):\n",
    "    if isinstance(input_dict, dict):\n",
    "        new_dict = {}\n",
    "        for key in input_dict:\n",
    "            val = check_and_remove_empty_values(input_dict[key])\n",
    "            if val != None:\n",
    "                new_dict[key] = val\n",
    "        if len(new_dict.keys()) < 1:\n",
    "            return None\n",
    "        else:\n",
    "            input_dict = new_dict\n",
    "    elif isinstance(input_dict, list):\n",
    "        new_list = []\n",
    "        for val in input_dict:\n",
    "            val = check_and_remove_empty_values(val)\n",
    "            if val != None:\n",
    "                new_list.append(val)\n",
    "        if len(new_list) < 1:\n",
    "            return None\n",
    "        else:\n",
    "            input_dict = new_list\n",
    "    elif isinstance(input_dict, str):\n",
    "        if len(input_dict) < 1: # \"\"\n",
    "            return None\n",
    "    return input_dict"
   ]
  },
  {
   "cell_type": "code",
   "execution_count": null,
   "metadata": {},
   "outputs": [],
   "source": [
    "def clean_data(data, schema):\n",
    "    # remove \"Unknown\", \"None\", \"Other/s\" that are not specified in the schema's enum\n",
    "    data = check_and_remove_unknowns(data, [], schema)\n",
    "    # remove empty arrays/dicts/values\n",
    "    # if it caused validation error, then the data needs to be fixed first at prior phases\n",
    "    data = check_and_remove_empty_values(data)\n",
    "    return data"
   ]
  },
  {
   "cell_type": "code",
   "execution_count": null,
   "metadata": {},
   "outputs": [],
   "source": []
  },
  {
   "cell_type": "code",
   "execution_count": null,
   "metadata": {},
   "outputs": [],
   "source": [
    "def validate_data(data, validator):\n",
    "    for error in sorted(validator.iter_errors(data), key=str):\n",
    "        print(error.message)\n",
    "        sys.exit(0)"
   ]
  },
  {
   "cell_type": "code",
   "execution_count": null,
   "metadata": {},
   "outputs": [],
   "source": [
    "input_folder = \"../../preprocessed/p7-json/\"\n",
    "output_folder = \"../../outputs/json_2.0/\"\n",
    "retired_folder = \"../../outputs/retired/\"\n",
    "\n",
    "summary_file = \"../../outputs/summary.tsv\"\n",
    "todo_file = \"../../outputs/todos.tsv\"\n",
    "\n",
    "structures_20 = {}\n",
    "\n",
    "if path.exists(output_folder):\n",
    "    shutil.rmtree(output_folder)\n",
    "makedirs(output_folder)\n",
    "\n",
    "if path.exists(retired_folder):\n",
    "    shutil.rmtree(retired_folder)\n",
    "makedirs(retired_folder)\n",
    "\n",
    "with open(summary_file, \"w\") as sf:\n",
    "    reasons_sorted = list(reasons)\n",
    "    sf.write(\"bgc_id\\t{}\\n\".format(\"\\t\".join(reasons_sorted)))\n",
    "    for json_path in sorted(glob.glob(path.join(input_folder, \"BGC*.json\"))):\n",
    "        with open(json_path, \"r\") as json_file:\n",
    "            bgc_id = path.basename(json_path).split(\".\")[0]\n",
    "            data = json.load(json_file)\n",
    "            structures_20[bgc_id] = []\n",
    "            for compound in data[\"cluster\"][\"compounds\"]:\n",
    "                structures_20[bgc_id].append((compound[\"compound\"], compound.get(\"chem_struct\", \"\"), \";\".join(compound.get(\"database_id\", []))))\n",
    "            retirement_reasons = bgcs.get(bgc_id, set())\n",
    "            sf.write(\"{}\\t{}\\n\".format(bgc_id, \"\\t\".join([str(int(reason in retirement_reasons)) for reason in reasons_sorted])))\n",
    "            if len(bgcs.get(bgc_id, set())) == 0:\n",
    "                print(\"Copying {}\".format(bgc_id))\n",
    "                data = clean_data(data, schema_obj)\n",
    "                validate_data(data, validator)\n",
    "                with open(path.join(output_folder, \"{}.json\".format(bgc_id)), \"w\") as o:\n",
    "                    o.write(json.dumps(data, indent=4, separators=(',', ': '), sort_keys=True))\n",
    "            else:\n",
    "                print(\"Retiring {}\".format(bgc_id))\n",
    "                print(bgcs.get(bgc_id, set()))\n",
    "                with open(path.join(retired_folder, \"{}.json\".format(bgc_id)), \"w\") as o:\n",
    "                    o.write(json.dumps(data, indent=4, separators=(',', ': '), sort_keys=True))\n",
    "    print(\"Done!\")\n",
    "    \n",
    "with open(todo_file, \"w\") as sf:\n",
    "    reasons_sorted = list(todos_reasons)\n",
    "    sf.write(\"bgc_id\\t{}\\n\".format(\"\\t\".join(todos_reasons)))\n",
    "    for json_path in sorted(glob.glob(path.join(input_folder, \"BGC*.json\"))):\n",
    "        with open(json_path, \"r\") as json_file:\n",
    "            bgc_id = path.basename(json_path).split(\".\")[0]\n",
    "            data = json.load(json_file)\n",
    "            sf.write(bgc_id)\n",
    "            for i, reason in enumerate(reasons_sorted):\n",
    "                sf.write(\"\\t\")\n",
    "                sf.write(str(todos.get(bgc_id, {}).get(reason, 0)))\n",
    "            sf.write(\"\\n\")\n",
    "    print(\"Done!\")"
   ]
  },
  {
   "cell_type": "code",
   "execution_count": null,
   "metadata": {},
   "outputs": [],
   "source": [
    "with open(\"../../outputs/bgc_structures_20.tsv\", \"w\") as o:\n",
    "    for bgc_id in structures_20:\n",
    "        for compound in structures_20[bgc_id]:\n",
    "            o.write(\"{}\\t{}\\t{}\\t{}\\n\".format(bgc_id, compound[0], compound[1], compound[2]))"
   ]
  },
  {
   "cell_type": "code",
   "execution_count": null,
   "metadata": {},
   "outputs": [],
   "source": []
  },
  {
   "cell_type": "code",
   "execution_count": null,
   "metadata": {},
   "outputs": [],
   "source": []
  },
  {
   "cell_type": "code",
   "execution_count": null,
   "metadata": {},
   "outputs": [],
   "source": []
  },
  {
   "cell_type": "code",
   "execution_count": null,
   "metadata": {},
   "outputs": [],
   "source": []
  },
  {
   "cell_type": "code",
   "execution_count": null,
   "metadata": {},
   "outputs": [],
   "source": []
  },
  {
   "cell_type": "code",
   "execution_count": null,
   "metadata": {},
   "outputs": [],
   "source": []
  }
 ],
 "metadata": {
  "kernelspec": {
   "display_name": "Python 3",
   "language": "python",
   "name": "python3"
  },
  "language_info": {
   "codemirror_mode": {
    "name": "ipython",
    "version": 3
   },
   "file_extension": ".py",
   "mimetype": "text/x-python",
   "name": "python",
   "nbconvert_exporter": "python",
   "pygments_lexer": "ipython3",
   "version": "3.8.5"
  }
 },
 "nbformat": 4,
 "nbformat_minor": 2
}
